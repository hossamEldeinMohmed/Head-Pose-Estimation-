{
  "cells": [
    {
      "cell_type": "code",
      "execution_count": null,
      "metadata": {
        "id": "ZeScTjGaBTGh"
      },
      "outputs": [],
      "source": [
        ""
      ]
    },
    {
      "cell_type": "code",
      "execution_count": null,
      "metadata": {
        "id": "9u21GkkQBTGm"
      },
      "outputs": [],
      "source": [
        "import numpy as np\n",
        "import os\n",
        "import scipy.io as sio\n",
        "import cv2\n",
        "import math\n",
        "from math import cos, sin\n",
        "import dlib\n",
        "import glob\n",
        "from pathlib import Path\n",
        "import pandas as pd\n",
        "from PIL import Image, ImageFilter\n",
        "from email.mime import image\n",
        "from imutils import face_utils\n",
        "import argparse\n",
        "import imutils\n",
        "import time\n",
        "from google.colab.patches import cv2_imshow\n"
      ]
    },
    {
      "cell_type": "code",
      "execution_count": null,
      "metadata": {
        "colab": {
          "base_uri": "https://localhost:8080/"
        },
        "id": "NrncV7fSqnaH",
        "outputId": "63a7d378-688e-4ed4-cf28-deac3595ef19"
      },
      "outputs": [
        {
          "output_type": "stream",
          "name": "stdout",
          "text": [
            "Drive already mounted at /content/drive/; to attempt to forcibly remount, call drive.mount(\"/content/drive/\", force_remount=True).\n"
          ]
        }
      ],
      "source": [
        "from google.colab import drive\n",
        "drive.mount('/content/drive/')"
      ]
    },
    {
      "cell_type": "code",
      "execution_count": null,
      "metadata": {
        "id": "GyWBsNhXq0r6"
      },
      "outputs": [],
      "source": [
        ""
      ]
    },
    {
      "cell_type": "code",
      "execution_count": null,
      "metadata": {
        "id": "-Yj9MvnrETDP",
        "colab": {
          "base_uri": "https://localhost:8080/"
        },
        "outputId": "2976e791-733b-44ee-e41f-38899a535603"
      },
      "outputs": [
        {
          "output_type": "stream",
          "name": "stdout",
          "text": [
            "Looking in indexes: https://pypi.org/simple, https://us-python.pkg.dev/colab-wheels/public/simple/\n",
            "Requirement already satisfied: mediapipe in /usr/local/lib/python3.7/dist-packages (0.8.10)\n",
            "Requirement already satisfied: protobuf>=3.11.4 in /usr/local/lib/python3.7/dist-packages (from mediapipe) (3.17.3)\n",
            "Requirement already satisfied: absl-py in /usr/local/lib/python3.7/dist-packages (from mediapipe) (1.1.0)\n",
            "Requirement already satisfied: matplotlib in /usr/local/lib/python3.7/dist-packages (from mediapipe) (3.2.2)\n",
            "Requirement already satisfied: attrs>=19.1.0 in /usr/local/lib/python3.7/dist-packages (from mediapipe) (21.4.0)\n",
            "Requirement already satisfied: numpy in /usr/local/lib/python3.7/dist-packages (from mediapipe) (1.21.6)\n",
            "Requirement already satisfied: opencv-contrib-python in /usr/local/lib/python3.7/dist-packages (from mediapipe) (4.1.2.30)\n",
            "Requirement already satisfied: six>=1.9 in /usr/local/lib/python3.7/dist-packages (from protobuf>=3.11.4->mediapipe) (1.15.0)\n",
            "Requirement already satisfied: python-dateutil>=2.1 in /usr/local/lib/python3.7/dist-packages (from matplotlib->mediapipe) (2.8.2)\n",
            "Requirement already satisfied: cycler>=0.10 in /usr/local/lib/python3.7/dist-packages (from matplotlib->mediapipe) (0.11.0)\n",
            "Requirement already satisfied: pyparsing!=2.0.4,!=2.1.2,!=2.1.6,>=2.0.1 in /usr/local/lib/python3.7/dist-packages (from matplotlib->mediapipe) (3.0.9)\n",
            "Requirement already satisfied: kiwisolver>=1.0.1 in /usr/local/lib/python3.7/dist-packages (from matplotlib->mediapipe) (1.4.3)\n",
            "Requirement already satisfied: typing-extensions in /usr/local/lib/python3.7/dist-packages (from kiwisolver>=1.0.1->matplotlib->mediapipe) (4.1.1)\n"
          ]
        }
      ],
      "source": [
        "!pip install mediapipe\n",
        "import mediapipe"
      ]
    },
    {
      "cell_type": "markdown",
      "metadata": {
        "id": "IpV1TnmcBTGo"
      },
      "source": [
        ""
      ]
    },
    {
      "cell_type": "code",
      "execution_count": null,
      "metadata": {
        "colab": {
          "base_uri": "https://localhost:8080/",
          "height": 36
        },
        "id": "lG3bb_5uBTGq",
        "outputId": "6dd6409b-3a99-482b-f385-28f5a6a72f71"
      },
      "outputs": [
        {
          "output_type": "execute_result",
          "data": {
            "text/plain": [
              "'3231797341_1'"
            ],
            "application/vnd.google.colaboratory.intrinsic+json": {
              "type": "string"
            }
          },
          "metadata": {},
          "execution_count": 4
        }
      ],
      "source": [
        "matlist = [Path(f).stem for f in glob.glob(\"/content/drive/MyDrive/AFLW2000/*.mat\")]\n",
        "imglist = [Path(f).stem for f in glob.glob(\"/content/drive/MyDrive/AFLW2000/*.jpg\")]\n",
        "imglist[0]\n"
      ]
    },
    {
      "cell_type": "code",
      "execution_count": null,
      "metadata": {
        "id": "rKe5L7DGu8Zj"
      },
      "outputs": [],
      "source": [
        "droped_imgs = []\n",
        "c=0\n",
        "\n",
        "def get_landmarks(img,path):\n",
        "    X=[]\n",
        "    Y=[]\n",
        "   # print(os.path.join('AFLW2000/', image_name).type)\n",
        "    # global c ,X,Y\n",
        "    faceModule = mediapipe.solutions.face_mesh\n",
        "# loading image and its correspinding mat file\n",
        "    with faceModule.FaceMesh(static_image_mode=True) as faces:\n",
        "        # loading the imag\n",
        "        image = cv2.imread(path+img+'.jpg')\n",
        "        # processing the face to extract the landmark points (468 point) for each x,y,z\n",
        "        results = faces.process(cv2.cvtColor(image, cv2.COLOR_BGR2RGB))\n",
        "        if results.multi_face_landmarks != None:\n",
        "          # looping over the faces in the image\n",
        "          if len(results.multi_face_landmarks)==1 :\n",
        "            for face in results.multi_face_landmarks:\n",
        "                for landmark in face.landmark:\n",
        "                    x = landmark.x\n",
        "                    y = landmark.y\n",
        "                    shape = image.shape\n",
        "                    relative_x = int(x * shape[1])\n",
        "                    relative_y = int(y * shape[0])\n",
        "                    X.append(relative_x)\n",
        "                    Y.append(relative_y)      \n",
        "        return X,Y"
      ]
    },
    {
      "cell_type": "code",
      "source": [
        "a,b = get_landmarks('3231797341_1','/content/drive/MyDrive/AFLW2000/')\n",
        "print (b)"
      ],
      "metadata": {
        "colab": {
          "base_uri": "https://localhost:8080/"
        },
        "id": "2LYnHmImWZb1",
        "outputId": "951886f6-115d-48fa-e486-b428c0c74ffa"
      },
      "execution_count": null,
      "outputs": [
        {
          "output_type": "stream",
          "name": "stdout",
          "text": [
            "[308, 285, 294, 267, 278, 270, 253, 268, 240, 231, 199, 311, 314, 315, 332, 335, 338, 342, 349, 289, 292, 252, 268, 270, 271, 271, 265, 252, 251, 255, 259, 276, 362, 267, 281, 274, 293, 309, 316, 315, 320, 319, 322, 338, 286, 280, 255, 274, 291, 288, 299, 273, 243, 248, 237, 241, 252, 331, 346, 293, 294, 330, 329, 245, 294, 240, 235, 211, 240, 222, 254, 253, 313, 317, 321, 294, 329, 333, 329, 290, 322, 319, 317, 350, 344, 340, 336, 333, 333, 334, 336, 339, 315, 315, 292, 332, 332, 297, 298, 295, 280, 287, 292, 223, 230, 238, 344, 233, 217, 204, 272, 282, 262, 264, 269, 287, 290, 285, 284, 280, 275, 270, 257, 303, 265, 290, 280, 284, 265, 293, 268, 283, 330, 260, 277, 355, 365, 310, 348, 267, 370, 292, 286, 278, 268, 267, 335, 317, 377, 373, 370, 214, 374, 265, 263, 261, 265, 258, 258, 258, 261, 263, 267, 268, 299, 309, 292, 302, 247, 361, 366, 372, 358, 259, 267, 369, 376, 325, 334, 336, 339, 342, 348, 325, 325, 325, 322, 316, 262, 253, 255, 324, 335, 250, 355, 265, 262, 259, 278, 362, 355, 357, 343, 300, 350, 305, 309, 318, 365, 284, 351, 357, 334, 329, 340, 338, 320, 274, 289, 292, 283, 249, 247, 249, 252, 257, 271, 296, 277, 277, 275, 272, 268, 264, 300, 294, 272, 287, 290, 289, 296, 290, 292, 259, 259, 259, 265, 263, 265, 247, 289, 223, 256, 255, 254, 249, 255, 237, 239, 236, 238, 253, 349, 245, 251, 248, 279, 305, 312, 306, 308, 312, 313, 323, 284, 277, 231, 266, 282, 279, 275, 270, 225, 226, 211, 236, 242, 313, 316, 287, 290, 315, 316, 222, 285, 228, 222, 197, 216, 209, 228, 226, 309, 309, 310, 288, 315, 321, 316, 284, 313, 313, 314, 345, 339, 335, 332, 330, 324, 324, 325, 327, 301, 283, 321, 321, 293, 290, 291, 268, 270, 282, 202, 210, 220, 331, 227, 211, 196, 252, 256, 254, 240, 262, 279, 261, 260, 263, 264, 264, 262, 254, 273, 239, 289, 271, 253, 259, 283, 245, 276, 299, 252, 272, 329, 339, 278, 320, 237, 356, 291, 275, 249, 250, 252, 321, 287, 369, 356, 349, 252, 252, 252, 238, 247, 245, 243, 243, 244, 236, 248, 298, 285, 298, 339, 347, 364, 329, 250, 263, 363, 293, 327, 328, 330, 334, 339, 314, 312, 311, 306, 290, 258, 247, 248, 313, 308, 247, 343, 260, 272, 351, 325, 288, 335, 285, 293, 296, 358, 275, 331, 340, 314, 300, 316, 307, 301, 267, 283, 284, 278, 241, 235, 232, 232, 235, 247, 264, 255, 258, 260, 260, 259, 257, 268, 286, 267, 283, 288, 285, 289, 288, 290, 252, 254, 255, 244, 241]\n"
          ]
        }
      ]
    },
    {
      "cell_type": "code",
      "execution_count": null,
      "metadata": {
        "id": "fY52l6icBTGr"
      },
      "outputs": [],
      "source": [
        "# read_mat function to return marks pitch, yaw, roll\n",
        "def fileRead(img,path):\n",
        "  mat_file = sio.loadmat(path+img+'.mat')\n",
        "  # extracting the labels 3 angels\n",
        "  pose_para = mat_file[\"Pose_Para\"][0][:3]\n",
        "  pitch = pose_para[0]\n",
        "  yaw = pose_para[1]\n",
        "  roll = pose_para[2]\n",
        "  return [yaw, pitch, roll, img]"
      ]
    },
    {
      "cell_type": "code",
      "execution_count": null,
      "metadata": {
        "id": "WGGzWrvSrTBE"
      },
      "outputs": [],
      "source": [
        ""
      ]
    },
    {
      "cell_type": "code",
      "execution_count": null,
      "metadata": {
        "id": "KZJqEauDqaXj"
      },
      "outputs": [],
      "source": [
        "# for i in matlist :\n",
        "  \n"
      ]
    },
    {
      "cell_type": "code",
      "execution_count": null,
      "metadata": {
        "id": "N4EgaxU5BTGr"
      },
      "outputs": [],
      "source": [
        "\n"
      ]
    },
    {
      "cell_type": "code",
      "execution_count": null,
      "metadata": {
        "id": "Wqg1A1pBBTGs"
      },
      "outputs": [],
      "source": [
        ""
      ]
    },
    {
      "cell_type": "code",
      "execution_count": null,
      "metadata": {
        "id": "UtJ4x4bUBTGt"
      },
      "outputs": [],
      "source": [
        "marks_x = ['x' + str(i) for i in range(468 )]\n",
        "marks_y = ['y' + str(i) for i in range(468 )]\n",
        "features = marks_x + marks_y\n",
        "labels = ['pitch', 'yaw', 'roll']\n",
        "df = pd.DataFrame(columns=features + labels)\n",
        "\n",
        "def bulid_dataFrame(path):\n",
        "    global df\n",
        "    # path = 'AFLW2000/image00002.jpg'\n",
        "    X_point,Y_point, pitch, yaw, roll = fileRead(path)\n",
        "    print('x_axis: ', len(X_point))\n",
        "    print('x_axis: ', len(Y_point))\n",
        "   # print('labels: ', len(labels))\n",
        "    df_x = pd.DataFrame(X_point,columns=marks_x)\n",
        "    df_x = df_x.astype(float)\n",
        "    df_y = pd.DataFrame(Y_point,columns=marks_y)\n",
        "    df_y = df_y.astype(float)\n",
        "    # landmarks_x consists of strings from 0 to 667\n",
        "\n",
        "    # flaten the landmarks into multiple values and add to the dataframe\n",
        "  \n",
        "    \n",
        "\n",
        "    #print (df)\n",
        "    #df = df.append(df2)\n",
        "\n",
        "    # df = df.\n"
      ]
    },
    {
      "cell_type": "code",
      "execution_count": null,
      "metadata": {
        "id": "13HM7yxNBTGv"
      },
      "outputs": [],
      "source": [
        "def get_list_from_filenames(file_path):\n",
        "    # input:    relative path to .mat file with file names\n",
        "    # output:   list of relative path names\n",
        "    lines = [Path(f).stem for f in glob.glob(file_path)]\n",
        "    return lines\n"
      ]
    },
    {
      "cell_type": "code",
      "execution_count": null,
      "metadata": {
        "id": "nADlC8LYBTGw"
      },
      "outputs": [],
      "source": [
        "\n",
        "# x_points_col = ['X{}'.format(i) for i in range(468)]\n",
        "# y_points_col = ['Y{}'.format(i) for i in range(468)]\n",
        "\n",
        "#def bulid_dataFrame(path):\n",
        "imagePath = [Path(f).stem for f in glob.glob('/content/drive/MyDrive/AFLW2000/'+'*.jpg')]\n",
        "X_points = []\n",
        "Y_points = []\n",
        "labels = []\n",
        "for img in imagePath:\n",
        "  # print(img)\n",
        "  labels.append(fileRead(img,'/content/drive/MyDrive/AFLW2000/'))\n",
        "  X, Y = get_landmarks(img,'/content/drive/MyDrive/AFLW2000/')\n",
        "  X_points.append(X)\n",
        "  Y_points.append(Y)\n",
        "df1= pd.DataFrame(X_points)\n",
        "df2= pd.DataFrame(Y_points)\n",
        "df3 = pd.DataFrame(labels,columns=['yaw', 'pitch', 'roll', 'image'])\n",
        "df = pd.concat([df1,df2,df3],axis=1)"
      ]
    },
    {
      "cell_type": "code",
      "execution_count": null,
      "metadata": {
        "id": "wt-904s_BTGx"
      },
      "outputs": [],
      "source": [
        "\n"
      ]
    },
    {
      "cell_type": "code",
      "source": [
        " df = df.dropna()"
      ],
      "metadata": {
        "id": "Aaiyq-3yZTN8"
      },
      "execution_count": null,
      "outputs": []
    },
    {
      "cell_type": "code",
      "source": [
        "df.to_csv('data.csv',index = False)"
      ],
      "metadata": {
        "id": "9TkRPelgZaLJ"
      },
      "execution_count": null,
      "outputs": []
    },
    {
      "cell_type": "code",
      "execution_count": null,
      "metadata": {
        "colab": {
          "base_uri": "https://localhost:8080/"
        },
        "id": "H-2ot4LhBTG0",
        "outputId": "f4c1b402-9327-4596-e73a-299deb3de3e0"
      },
      "outputs": [
        {
          "output_type": "stream",
          "name": "stdout",
          "text": [
            "<class 'pandas.core.frame.DataFrame'>\n",
            "Int64Index: 3833 entries, 0 to 3836\n",
            "Columns: 940 entries, 0 to image\n",
            "dtypes: float64(939), object(1)\n",
            "memory usage: 27.5+ MB\n"
          ]
        }
      ],
      "source": [
        "df.info()\n"
      ]
    },
    {
      "cell_type": "code",
      "execution_count": null,
      "metadata": {
        "id": "Z1yrn3reBTG2"
      },
      "outputs": [],
      "source": [
        "result = pd.read_csv(\"data.csv\")\n"
      ]
    },
    {
      "cell_type": "code",
      "source": [
        "marks_x = ['x' + str(i) for i in range(468)]\n",
        "marks_y = ['y' + str(i) for i in range(468)]\n",
        "features = marks_x + marks_y\n",
        "result.columns.values[0:936]=features\n"
      ],
      "metadata": {
        "id": "r9Z7blZBpyhJ"
      },
      "execution_count": null,
      "outputs": []
    },
    {
      "cell_type": "code",
      "source": [
        "# import numpy as np\n",
        "\n",
        "# for i in range(468):\n",
        "#     xstr = 'x'+str(i)\n",
        "#     ystr = 'y'+str(i)\n",
        "#     pointstr = 'point'+str(i)\n",
        "#     result[pointstr] = np.sqrt((result[xstr] -result['x99'])**2 +(result[ystr]-result['y99'])**2)\n",
        "#     if i != 99:\n",
        "#         result.drop([xstr,ystr], axis=1, inplace=True)\n",
        "# result.drop(['x99', 'y99'], axis=1, inplace=True)"
      ],
      "metadata": {
        "id": "wJjoIK_t1Eig"
      },
      "execution_count": null,
      "outputs": []
    },
    {
      "cell_type": "code",
      "execution_count": null,
      "metadata": {
        "id": "HCFPnq3JBTG2"
      },
      "outputs": [],
      "source": [
        "from sklearn.linear_model import LinearRegression\n",
        "from sklearn.model_selection import train_test_split\n",
        "from sklearn.metrics import mean_squared_error\n",
        "from sklearn.metrics import r2_score\n"
      ]
    },
    {
      "cell_type": "code",
      "source": [
        "result.iloc[:,-4:-1]"
      ],
      "metadata": {
        "colab": {
          "base_uri": "https://localhost:8080/",
          "height": 424
        },
        "id": "Y9X0Z5EdcM5m",
        "outputId": "848b5fbd-ed47-40e3-e3a6-672608de421d"
      },
      "execution_count": null,
      "outputs": [
        {
          "output_type": "execute_result",
          "data": {
            "text/plain": [
              "           yaw     pitch      roll\n",
              "0    -0.142117  0.032600 -0.226494\n",
              "1    -0.092551 -0.152758  0.119983\n",
              "2     0.041173 -0.452514 -0.036319\n",
              "3     0.040558  0.281446  0.022014\n",
              "4     0.310935  0.116551  0.287020\n",
              "...        ...       ...       ...\n",
              "3828 -0.246066 -0.111348  0.001073\n",
              "3829  0.050202 -0.187037 -0.064051\n",
              "3830  0.042420 -0.231104 -0.141656\n",
              "3831  0.304315 -0.054411 -0.131326\n",
              "3832 -0.010392 -0.032362  0.029381\n",
              "\n",
              "[3833 rows x 3 columns]"
            ],
            "text/html": [
              "\n",
              "  <div id=\"df-df44689e-9bef-4c74-bb6a-a23cf22a7845\">\n",
              "    <div class=\"colab-df-container\">\n",
              "      <div>\n",
              "<style scoped>\n",
              "    .dataframe tbody tr th:only-of-type {\n",
              "        vertical-align: middle;\n",
              "    }\n",
              "\n",
              "    .dataframe tbody tr th {\n",
              "        vertical-align: top;\n",
              "    }\n",
              "\n",
              "    .dataframe thead th {\n",
              "        text-align: right;\n",
              "    }\n",
              "</style>\n",
              "<table border=\"1\" class=\"dataframe\">\n",
              "  <thead>\n",
              "    <tr style=\"text-align: right;\">\n",
              "      <th></th>\n",
              "      <th>yaw</th>\n",
              "      <th>pitch</th>\n",
              "      <th>roll</th>\n",
              "    </tr>\n",
              "  </thead>\n",
              "  <tbody>\n",
              "    <tr>\n",
              "      <th>0</th>\n",
              "      <td>-0.142117</td>\n",
              "      <td>0.032600</td>\n",
              "      <td>-0.226494</td>\n",
              "    </tr>\n",
              "    <tr>\n",
              "      <th>1</th>\n",
              "      <td>-0.092551</td>\n",
              "      <td>-0.152758</td>\n",
              "      <td>0.119983</td>\n",
              "    </tr>\n",
              "    <tr>\n",
              "      <th>2</th>\n",
              "      <td>0.041173</td>\n",
              "      <td>-0.452514</td>\n",
              "      <td>-0.036319</td>\n",
              "    </tr>\n",
              "    <tr>\n",
              "      <th>3</th>\n",
              "      <td>0.040558</td>\n",
              "      <td>0.281446</td>\n",
              "      <td>0.022014</td>\n",
              "    </tr>\n",
              "    <tr>\n",
              "      <th>4</th>\n",
              "      <td>0.310935</td>\n",
              "      <td>0.116551</td>\n",
              "      <td>0.287020</td>\n",
              "    </tr>\n",
              "    <tr>\n",
              "      <th>...</th>\n",
              "      <td>...</td>\n",
              "      <td>...</td>\n",
              "      <td>...</td>\n",
              "    </tr>\n",
              "    <tr>\n",
              "      <th>3828</th>\n",
              "      <td>-0.246066</td>\n",
              "      <td>-0.111348</td>\n",
              "      <td>0.001073</td>\n",
              "    </tr>\n",
              "    <tr>\n",
              "      <th>3829</th>\n",
              "      <td>0.050202</td>\n",
              "      <td>-0.187037</td>\n",
              "      <td>-0.064051</td>\n",
              "    </tr>\n",
              "    <tr>\n",
              "      <th>3830</th>\n",
              "      <td>0.042420</td>\n",
              "      <td>-0.231104</td>\n",
              "      <td>-0.141656</td>\n",
              "    </tr>\n",
              "    <tr>\n",
              "      <th>3831</th>\n",
              "      <td>0.304315</td>\n",
              "      <td>-0.054411</td>\n",
              "      <td>-0.131326</td>\n",
              "    </tr>\n",
              "    <tr>\n",
              "      <th>3832</th>\n",
              "      <td>-0.010392</td>\n",
              "      <td>-0.032362</td>\n",
              "      <td>0.029381</td>\n",
              "    </tr>\n",
              "  </tbody>\n",
              "</table>\n",
              "<p>3833 rows × 3 columns</p>\n",
              "</div>\n",
              "      <button class=\"colab-df-convert\" onclick=\"convertToInteractive('df-df44689e-9bef-4c74-bb6a-a23cf22a7845')\"\n",
              "              title=\"Convert this dataframe to an interactive table.\"\n",
              "              style=\"display:none;\">\n",
              "        \n",
              "  <svg xmlns=\"http://www.w3.org/2000/svg\" height=\"24px\"viewBox=\"0 0 24 24\"\n",
              "       width=\"24px\">\n",
              "    <path d=\"M0 0h24v24H0V0z\" fill=\"none\"/>\n",
              "    <path d=\"M18.56 5.44l.94 2.06.94-2.06 2.06-.94-2.06-.94-.94-2.06-.94 2.06-2.06.94zm-11 1L8.5 8.5l.94-2.06 2.06-.94-2.06-.94L8.5 2.5l-.94 2.06-2.06.94zm10 10l.94 2.06.94-2.06 2.06-.94-2.06-.94-.94-2.06-.94 2.06-2.06.94z\"/><path d=\"M17.41 7.96l-1.37-1.37c-.4-.4-.92-.59-1.43-.59-.52 0-1.04.2-1.43.59L10.3 9.45l-7.72 7.72c-.78.78-.78 2.05 0 2.83L4 21.41c.39.39.9.59 1.41.59.51 0 1.02-.2 1.41-.59l7.78-7.78 2.81-2.81c.8-.78.8-2.07 0-2.86zM5.41 20L4 18.59l7.72-7.72 1.47 1.35L5.41 20z\"/>\n",
              "  </svg>\n",
              "      </button>\n",
              "      \n",
              "  <style>\n",
              "    .colab-df-container {\n",
              "      display:flex;\n",
              "      flex-wrap:wrap;\n",
              "      gap: 12px;\n",
              "    }\n",
              "\n",
              "    .colab-df-convert {\n",
              "      background-color: #E8F0FE;\n",
              "      border: none;\n",
              "      border-radius: 50%;\n",
              "      cursor: pointer;\n",
              "      display: none;\n",
              "      fill: #1967D2;\n",
              "      height: 32px;\n",
              "      padding: 0 0 0 0;\n",
              "      width: 32px;\n",
              "    }\n",
              "\n",
              "    .colab-df-convert:hover {\n",
              "      background-color: #E2EBFA;\n",
              "      box-shadow: 0px 1px 2px rgba(60, 64, 67, 0.3), 0px 1px 3px 1px rgba(60, 64, 67, 0.15);\n",
              "      fill: #174EA6;\n",
              "    }\n",
              "\n",
              "    [theme=dark] .colab-df-convert {\n",
              "      background-color: #3B4455;\n",
              "      fill: #D2E3FC;\n",
              "    }\n",
              "\n",
              "    [theme=dark] .colab-df-convert:hover {\n",
              "      background-color: #434B5C;\n",
              "      box-shadow: 0px 1px 3px 1px rgba(0, 0, 0, 0.15);\n",
              "      filter: drop-shadow(0px 1px 2px rgba(0, 0, 0, 0.3));\n",
              "      fill: #FFFFFF;\n",
              "    }\n",
              "  </style>\n",
              "\n",
              "      <script>\n",
              "        const buttonEl =\n",
              "          document.querySelector('#df-df44689e-9bef-4c74-bb6a-a23cf22a7845 button.colab-df-convert');\n",
              "        buttonEl.style.display =\n",
              "          google.colab.kernel.accessAllowed ? 'block' : 'none';\n",
              "\n",
              "        async function convertToInteractive(key) {\n",
              "          const element = document.querySelector('#df-df44689e-9bef-4c74-bb6a-a23cf22a7845');\n",
              "          const dataTable =\n",
              "            await google.colab.kernel.invokeFunction('convertToInteractive',\n",
              "                                                     [key], {});\n",
              "          if (!dataTable) return;\n",
              "\n",
              "          const docLinkHtml = 'Like what you see? Visit the ' +\n",
              "            '<a target=\"_blank\" href=https://colab.research.google.com/notebooks/data_table.ipynb>data table notebook</a>'\n",
              "            + ' to learn more about interactive tables.';\n",
              "          element.innerHTML = '';\n",
              "          dataTable['output_type'] = 'display_data';\n",
              "          await google.colab.output.renderOutput(dataTable, element);\n",
              "          const docLink = document.createElement('div');\n",
              "          docLink.innerHTML = docLinkHtml;\n",
              "          element.appendChild(docLink);\n",
              "        }\n",
              "      </script>\n",
              "    </div>\n",
              "  </div>\n",
              "  "
            ]
          },
          "metadata": {},
          "execution_count": 8
        }
      ]
    },
    {
      "cell_type": "code",
      "execution_count": null,
      "metadata": {
        "id": "9yw00VXYBTG2"
      },
      "outputs": [],
      "source": [
        "X = result.drop(['yaw', 'pitch', 'roll','image'], axis=1)\n",
        "y_yaw = result['yaw']\n",
        "y_pitch = result['pitch']\n",
        "y_roll = result['roll']\n",
        "X_train, X_test, y_train, y_test = train_test_split(\n",
        "    df.iloc[:,:-4] ,df.iloc[:,-4:-1], test_size=0.20, random_state=42)\n",
        "# X_train_yaw, X_test_m yaw, y_train_yaw, y_test_yaw = train_test_split(\n",
        "#     df.iloc[:,:-4] ,df.iloc[:,-4:-1], test_size=0.20, random_state=42)\n",
        "# X_train_pitch, X_test_pitch, y_train_pitch, y_test_pitch = train_test_split(\n",
        "#     X, y_pitch, test_size=0.20, random_state=42)\n",
        "# X_train_roll, X_test_roll, y_train_roll, y_test_roll = train_test_split(\n",
        "#     X, y_roll, test_size=0.20, random_state=42)\n"
      ]
    },
    {
      "cell_type": "code",
      "execution_count": null,
      "metadata": {
        "id": "fyheJ2gfBTG3"
      },
      "outputs": [],
      "source": [
        "y_test_yaw = y_test['yaw']\n",
        "y_test_pitch = y_test['pitch']\n",
        "y_test_roll = y_test['roll']\n",
        "y_train_yaw = y_train['yaw']\n",
        "y_train_pitch = y_train['pitch']\n",
        "y_train_roll = y_train['roll']\n"
      ]
    },
    {
      "cell_type": "code",
      "execution_count": null,
      "metadata": {
        "id": "VvaNzfXWBTG3"
      },
      "outputs": [],
      "source": [
        "# model_yaw = LinearRegression().fit(X_train, y_train_yaw)\n",
        "# model_pitch = LinearRegression().fit(X_train, y_train_pitch)\n",
        "# model_roll = LinearRegression().fit(X_train, y_train_roll)\n",
        "# y_pred_yaw = model_yaw.predict(X_test)\n",
        "# y_pred_pitch = model_pitch.predict(X_test)\n",
        "# y_pred_roll = model_roll.predict(X_test)\n"
      ]
    },
    {
      "cell_type": "code",
      "execution_count": null,
      "metadata": {
        "colab": {
          "base_uri": "https://localhost:8080/"
        },
        "id": "qZDXy2yWBTG3",
        "outputId": "06f88854-480f-464f-8c4e-41fcbf539aa3"
      },
      "outputs": [
        {
          "output_type": "stream",
          "name": "stdout",
          "text": [
            "0.9551237067990284\n",
            "0.7370325716516732\n",
            "0.9238002566974959\n"
          ]
        }
      ],
      "source": [
        "# print(r2_score(y_test_yaw, y_pred_yaw))\n",
        "# print(r2_score(y_test_pitch, y_pred_pitch))\n",
        "# # print(r2_score(y_test_roll, y_pred_roll))"
      ]
    },
    {
      "cell_type": "code",
      "source": [
        "\n",
        "\n"
      ],
      "metadata": {
        "colab": {
          "base_uri": "https://localhost:8080/"
        },
        "id": "l55WnDIRs-yu",
        "outputId": "1da4dc20-ecaa-475b-96fa-c3a4ea5fab67"
      },
      "execution_count": null,
      "outputs": [
        {
          "output_type": "stream",
          "name": "stderr",
          "text": [
            "/usr/local/lib/python3.7/dist-packages/sklearn/svm/_base.py:1208: ConvergenceWarning: Liblinear failed to converge, increase the number of iterations.\n",
            "  ConvergenceWarning,\n",
            "/usr/local/lib/python3.7/dist-packages/sklearn/svm/_base.py:1208: ConvergenceWarning: Liblinear failed to converge, increase the number of iterations.\n",
            "  ConvergenceWarning,\n",
            "/usr/local/lib/python3.7/dist-packages/sklearn/svm/_base.py:1208: ConvergenceWarning: Liblinear failed to converge, increase the number of iterations.\n",
            "  ConvergenceWarning,\n"
          ]
        }
      ]
    },
    {
      "cell_type": "code",
      "execution_count": null,
      "metadata": {
        "id": "n3BlMRa0BTG4"
      },
      "outputs": [],
      "source": [
        "from sklearn.ensemble import RandomForestRegressor\n",
        "from sklearn.svm import LinearSVR\n",
        "model_yaw = RandomForestRegressor(n_estimators=50).fit(X_train, y_train_yaw)\n",
        "model_pitch = RandomForestRegressor(n_estimators=50).fit(X_train, y_train_pitch)\n",
        "model_roll = LinearRegression().fit(X_train, y_train_roll)\n",
        "y_pred_yaw = model_yaw.predict(X_test)\n",
        "y_pred_pitch = model_pitch.predict(X_test)\n",
        "y_pred_roll = model_roll.predict(X_test)\n"
      ]
    },
    {
      "cell_type": "code",
      "source": [
        ""
      ],
      "metadata": {
        "id": "7mZe390Y5e9g"
      },
      "execution_count": null,
      "outputs": []
    },
    {
      "cell_type": "code",
      "execution_count": null,
      "metadata": {
        "id": "JtuSlfs_BTG5"
      },
      "outputs": [],
      "source": [
        "from sklearn.metrics import mean_squared_error\n",
        "from sklearn.metrics import r2_score\n",
        "from sklearn.metrics import mean_absolute_error\n",
        "from sklearn.metrics import explained_variance_score\n"
      ]
    },
    {
      "cell_type": "code",
      "execution_count": null,
      "metadata": {
        "colab": {
          "base_uri": "https://localhost:8080/"
        },
        "id": "rBM8jsSrBTG5",
        "outputId": "48f2b851-7a41-4511-a451-1973f732d18a"
      },
      "outputs": [
        {
          "output_type": "stream",
          "name": "stdout",
          "text": [
            "Pitch:\n",
            "Mean Squared Error: 0.005466233513943145\n",
            "R2 Score: 0.8073054734157707\n",
            "Mean Absolute Error: 0.054921574760837026\n",
            "Explained Variance Score: 0.8073522513743097\n",
            "\n",
            " Yaw:\n",
            "Mean Squared Error: 0.0019059848879505337\n",
            "R2 Score: 0.9772018035598402\n",
            "Mean Absolute Error: 0.026709227381046675\n",
            "Explained Variance Score: 0.9772255995921306\n",
            "\n",
            " Roll:\n",
            "Mean Squared Error: 0.0016592148085268254\n",
            "R2 Score: 0.9238002566975001\n",
            "Mean Absolute Error: 0.02999742846032293\n",
            "Explained Variance Score: 0.9243124741742316\n"
          ]
        }
      ],
      "source": [
        "print('Pitch:')\n",
        "print('Mean Squared Error:', mean_squared_error(y_test_pitch, y_pred_pitch))\n",
        "print('R2 Score:', r2_score(y_test_pitch, y_pred_pitch))\n",
        "print('Mean Absolute Error:', mean_absolute_error(y_test_pitch, y_pred_pitch))\n",
        "print('Explained Variance Score:',\n",
        "      explained_variance_score(y_test_pitch, y_pred_pitch))\n",
        "\n",
        "print(\"\\n Yaw:\")\n",
        "print('Mean Squared Error:', mean_squared_error(y_test_yaw, y_pred_yaw))\n",
        "print('R2 Score:', r2_score(y_test_yaw, y_pred_yaw))\n",
        "print('Mean Absolute Error:', mean_absolute_error(y_test_yaw, y_pred_yaw))\n",
        "print('Explained Variance Score:',\n",
        "      explained_variance_score(y_test_yaw, y_pred_yaw))\n",
        "\n",
        "print(\"\\n Roll:\")\n",
        "print('Mean Squared Error:', mean_squared_error(y_test_roll, y_pred_roll))\n",
        "print('R2 Score:', r2_score(y_test_roll, y_pred_roll))\n",
        "print('Mean Absolute Error:', mean_absolute_error(y_test_roll, y_pred_roll))\n",
        "print('Explained Variance Score:',\n",
        "      explained_variance_score(y_test_roll, y_pred_roll))\n"
      ]
    },
    {
      "cell_type": "code",
      "execution_count": null,
      "metadata": {
        "id": "lBW4ybYXBTG6"
      },
      "outputs": [],
      "source": [
        "\n"
      ]
    },
    {
      "cell_type": "code",
      "execution_count": null,
      "metadata": {
        "id": "Ky93ZvZMBTG6"
      },
      "outputs": [],
      "source": [
        ""
      ]
    },
    {
      "cell_type": "code",
      "execution_count": null,
      "metadata": {
        "id": "X2-bnSlfBTG6"
      },
      "outputs": [],
      "source": [
        "\n"
      ]
    },
    {
      "cell_type": "code",
      "execution_count": null,
      "metadata": {
        "id": "wcIfMj_vBTG6"
      },
      "outputs": [],
      "source": [
        "#drow yaw and pitch and roll on the image opencv\n",
        "\n"
      ]
    },
    {
      "cell_type": "code",
      "execution_count": null,
      "metadata": {
        "id": "E5LfVt_ABTG7"
      },
      "outputs": [],
      "source": [
        "def draw_axis(img, pitch,yaw,roll, tdx=None, tdy=None, size = 100):\n",
        "\n",
        "    yaw = -yaw\n",
        "    if tdx != None and tdy != None:\n",
        "        tdx = tdx\n",
        "        tdy = tdy\n",
        "    else:\n",
        "        height, width = img.shape[:2]\n",
        "        tdx = width / 2\n",
        "        tdy = height / 2\n",
        "\n",
        "    # X-Axis pointing to right. drawn in red\n",
        "    x1 = size * (cos(yaw) * cos(roll)) + tdx\n",
        "    y1 = size * (cos(pitch) * sin(roll) + cos(roll) * sin(pitch) * sin(yaw)) + tdy\n",
        "\n",
        "    # Y-Axis | drawn in green\n",
        "    #        v\n",
        "    x2 = size * (-cos(yaw) * sin(roll)) + tdx\n",
        "    y2 = size * (cos(pitch) * cos(roll) - sin(pitch) * sin(yaw) * sin(roll)) + tdy\n",
        "\n",
        "    # Z-Axis (out of the screen) drawn in blue\n",
        "    x3 = size * (sin(yaw)) + tdx\n",
        "    y3 = size * (-cos(yaw) * sin(pitch)) + tdy\n",
        "\n",
        "    cv2.line(img, (int(tdx), int(tdy)), (int(x1),int(y1)),(0,0,255),3)\n",
        "    cv2.line(img, (int(tdx), int(tdy)), (int(x2),int(y2)),(0,255,0),3)\n",
        "    cv2.line(img, (int(tdx), int(tdy)), (int(x3),int(y3)),(255,0,0),2)\n",
        "\n"
      ]
    },
    {
      "cell_type": "code",
      "execution_count": null,
      "metadata": {
        "id": "TyjGv9v4BTG7"
      },
      "outputs": [],
      "source": [
        "def get_landmark(img):\n",
        "    x_axis = []\n",
        "    y_axis = []\n",
        "    faceModule = mediapipe.solutions.face_mesh\n",
        "    \n",
        "    with faceModule.FaceMesh(static_image_mode=True) as faces:\n",
        "        results = faces.process(cv2.cvtColor(image, cv2.COLOR_BGR2RGB))\n",
        "        \n",
        "        if results.multi_face_landmarks != None:\n",
        "            # looping over the faces in the image\n",
        "            for face in results.multi_face_landmarks:\n",
        "                for landmark in face.landmark:\n",
        "                    x = landmark.x\n",
        "                    y = landmark.y\n",
        "\n",
        "                    shape = image.shape \n",
        "                    relative_x = int(x * shape[1])\n",
        "                    relative_y = int(y * shape[0])\n",
        "\n",
        "                    x_axis.append(relative_x)\n",
        "                    y_axis.append(relative_y)\n",
        "                    # cv2.putText(image, str(relative_y), (int(relative_x),int(relative_y)), cv2.FONT_HERSHEY_SIMPLEX, 0.4, (0,255,0), 2)\n",
        "                    #cv2.circle(image, (relative_x, relative_y), radius=1, color=(0, 255, 0), thickness=2)\n",
        "                #if draw == True:\n",
        "                  #cv2_imshow(image)\n",
        "    return x_axis, y_axis\n"
      ]
    },
    {
      "cell_type": "code",
      "source": [
        "vid = cv2.VideoCapture('/content/drive/MyDrive/hossam2.mp4')\n",
        "width= int(vid.get(cv2.CAP_PROP_FRAME_WIDTH))\n",
        "height= int(vid.get(cv2.CAP_PROP_FRAME_HEIGHT))\n",
        "\n",
        "if (vid.isOpened()== False): \n",
        "    print(\"Error opening video file\")\n",
        "\n",
        "frames = list()"
      ],
      "metadata": {
        "id": "VWojWGecNl0A"
      },
      "execution_count": null,
      "outputs": []
    },
    {
      "cell_type": "code",
      "source": [
        ""
      ],
      "metadata": {
        "id": "G1fPx-Sv--AB"
      },
      "execution_count": null,
      "outputs": []
    },
    {
      "cell_type": "code",
      "source": [
        "faceModule = mediapipe.solutions.face_mesh   \n",
        "while vid.isOpened():                                                          \n",
        "    val, frame = vid.read()                                                     \n",
        "\n",
        "    if val == True:                                                             \n",
        "      with faceModule.FaceMesh(static_image_mode=True) as face:\n",
        "     \n",
        "        results = face.process(cv2.cvtColor(frame, cv2.COLOR_BGR2RGB))\n",
        "\n",
        "        if results.multi_face_landmarks != None:\n",
        "          for face in results.multi_face_landmarks:\n",
        "              \n",
        "            X = list()                                                          \n",
        "            Y = list()                                                         \n",
        "\n",
        "            for landmark in face.landmark:                                     \n",
        "                X.append(landmark.x )                      \n",
        "                Y.append(landmark.y) \n",
        "                        \n",
        "            X = np.array(X)                                                   \n",
        "            Y = np.array(Y)\n",
        "            featuresnp = np.hstack([X,Y]).reshape(1,-1)\n",
        "            features=pd.DataFrame(featuresnp)\n",
        "            marks_x = ['x' + str(i) for i in range(468)]\n",
        "            marks_y = ['y' + str(i) for i in range(468)]\n",
        "            featur = marks_x + marks_y\n",
        "            features.columns.values[0:]=featur\n",
        "            pitch = model_pitch.predict(features)\n",
        "            yaw=model_yaw.predict(features)\n",
        "            roll=model_roll.predict(features)\n",
        "            draw_axis(frame,pitch,yaw,roll,X[2],Y[2])\n",
        "            \n",
        "            frames.append(frame)                                                \n",
        "    else:\n",
        "      break                                                                       \n",
        "vid.release()  \n",
        "# Closes all the frames\n",
        "cv2.destroyAllWindows()\n",
        "print(\"Number of Detected Frames = \",len(frames))"
      ],
      "metadata": {
        "colab": {
          "base_uri": "https://localhost:8080/"
        },
        "id": "Q9VdeewIOtfb",
        "outputId": "87db1e66-8b47-4861-b90c-ba29db19cf1c"
      },
      "execution_count": null,
      "outputs": [
        {
          "output_type": "stream",
          "name": "stdout",
          "text": [
            "Number of Detected Frames =  265\n"
          ]
        }
      ]
    },
    {
      "cell_type": "code",
      "source": [
        "\n",
        "out = cv2.VideoWriter('out.mp4',cv2.VideoWriter_fourcc(*'DIVX'), 20, (width,height))\n",
        "for i in range(len(frames)):\n",
        "    out.write(frames[i])\n",
        "out.release()"
      ],
      "metadata": {
        "id": "nMutsTSZ-3C0"
      },
      "execution_count": null,
      "outputs": []
    },
    {
      "cell_type": "code",
      "execution_count": null,
      "metadata": {
        "colab": {
          "base_uri": "https://localhost:8080/",
          "height": 17
        },
        "id": "iWhZ5n5lBTG8",
        "outputId": "53ae43b8-3893-487f-fe05-7511db45b4c5"
      },
      "outputs": [
        {
          "output_type": "display_data",
          "data": {
            "text/plain": [
              "<IPython.core.display.Javascript object>"
            ],
            "application/javascript": [
              "\n",
              "    async function download(id, filename, size) {\n",
              "      if (!google.colab.kernel.accessAllowed) {\n",
              "        return;\n",
              "      }\n",
              "      const div = document.createElement('div');\n",
              "      const label = document.createElement('label');\n",
              "      label.textContent = `Downloading \"${filename}\": `;\n",
              "      div.appendChild(label);\n",
              "      const progress = document.createElement('progress');\n",
              "      progress.max = size;\n",
              "      div.appendChild(progress);\n",
              "      document.body.appendChild(div);\n",
              "\n",
              "      const buffers = [];\n",
              "      let downloaded = 0;\n",
              "\n",
              "      const channel = await google.colab.kernel.comms.open(id);\n",
              "      // Send a message to notify the kernel that we're ready.\n",
              "      channel.send({})\n",
              "\n",
              "      for await (const message of channel.messages) {\n",
              "        // Send a message to notify the kernel that we're ready.\n",
              "        channel.send({})\n",
              "        if (message.buffers) {\n",
              "          for (const buffer of message.buffers) {\n",
              "            buffers.push(buffer);\n",
              "            downloaded += buffer.byteLength;\n",
              "            progress.value = downloaded;\n",
              "          }\n",
              "        }\n",
              "      }\n",
              "      const blob = new Blob(buffers, {type: 'application/binary'});\n",
              "      const a = document.createElement('a');\n",
              "      a.href = window.URL.createObjectURL(blob);\n",
              "      a.download = filename;\n",
              "      div.appendChild(a);\n",
              "      a.click();\n",
              "      div.remove();\n",
              "    }\n",
              "  "
            ]
          },
          "metadata": {}
        },
        {
          "output_type": "display_data",
          "data": {
            "text/plain": [
              "<IPython.core.display.Javascript object>"
            ],
            "application/javascript": [
              "download(\"download_895c8419-62a3-4605-bacb-26194fae8bad\", \"out.mp4\", 10275790)"
            ]
          },
          "metadata": {}
        }
      ],
      "source": [
        "from google.colab import files\n",
        "files.download('out.mp4')\n",
        "\n"
      ]
    },
    {
      "cell_type": "code",
      "execution_count": null,
      "metadata": {
        "id": "JOcngHxmBTG8"
      },
      "outputs": [],
      "source": [
        ""
      ]
    },
    {
      "cell_type": "code",
      "execution_count": null,
      "metadata": {
        "id": "e9R3YA13BTG8"
      },
      "outputs": [],
      "source": [
        ""
      ]
    },
    {
      "cell_type": "code",
      "execution_count": null,
      "metadata": {
        "id": "EnLT2th6FA6N"
      },
      "outputs": [],
      "source": [
        ""
      ]
    },
    {
      "cell_type": "code",
      "execution_count": null,
      "metadata": {
        "id": "dn2o_9U5BTG8"
      },
      "outputs": [],
      "source": [
        ""
      ]
    },
    {
      "cell_type": "code",
      "execution_count": null,
      "metadata": {
        "id": "5FGaFQYzjIGy"
      },
      "outputs": [],
      "source": [
        ""
      ]
    },
    {
      "cell_type": "code",
      "execution_count": null,
      "metadata": {
        "id": "3wiwV2HuBTG9"
      },
      "outputs": [],
      "source": [
        "\n"
      ]
    }
  ],
  "metadata": {
    "colab": {
      "collapsed_sections": [],
      "name": "Post Estmation .ipynb",
      "provenance": []
    },
    "interpreter": {
      "hash": "77777023d88644f72a7b3a0218da8c79930d71f5ca138eff4e7b6009fecb75d5"
    },
    "kernelspec": {
      "display_name": "Python 3.9.6 64-bit",
      "language": "python",
      "name": "python3"
    },
    "language_info": {
      "codemirror_mode": {
        "name": "ipython",
        "version": 3
      },
      "file_extension": ".py",
      "mimetype": "text/x-python",
      "name": "python",
      "nbconvert_exporter": "python",
      "pygments_lexer": "ipython3",
      "version": "3.9.6"
    }
  },
  "nbformat": 4,
  "nbformat_minor": 0
}